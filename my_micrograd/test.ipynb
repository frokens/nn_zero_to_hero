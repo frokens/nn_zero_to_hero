{
 "cells": [
  {
   "cell_type": "code",
   "execution_count": 1,
   "metadata": {},
   "outputs": [],
   "source": [
    "from engine import Value"
   ]
  },
  {
   "cell_type": "code",
   "execution_count": 2,
   "metadata": {},
   "outputs": [
    {
     "data": {
      "text/plain": [
       "Value(data=1.4000000000000001, grad=0)"
      ]
     },
     "metadata": {},
     "output_type": "display_data"
    }
   ],
   "source": [
    "a = Value(5); a.label = \"a\"\n",
    "b  = Value(2); b.label = \"b\"\n",
    "c = Value(0.2)\n",
    "\n",
    "d = a + b\n",
    "o = d*c\n",
    "display(o)"
   ]
  },
  {
   "cell_type": "code",
   "execution_count": 3,
   "metadata": {},
   "outputs": [],
   "source": [
    "o.backward()"
   ]
  },
  {
   "cell_type": "code",
   "execution_count": 4,
   "metadata": {},
   "outputs": [
    {
     "data": {
      "text/plain": [
       "0.2"
      ]
     },
     "metadata": {},
     "output_type": "display_data"
    }
   ],
   "source": [
    "display(a.grad)"
   ]
  },
  {
   "cell_type": "code",
   "execution_count": null,
   "metadata": {},
   "outputs": [
    {
     "name": "stdout",
     "output_type": "stream",
     "text": [
      "x1: 3.616510702140228e-05\n",
      "x2: -4.520638377675285e-05\n",
      "w1: 1.808255351070114e-05\n",
      "w2: 2.7123830266051712e-05\n",
      "b: 9.04127675535057e-06\n",
      "n: 9.04127675535057e-06\n",
      "e: 1.9999909587130265\n",
      "o: 1\n"
     ]
    },
    {
     "ename": "",
     "evalue": "",
     "output_type": "error",
     "traceback": [
      "\u001b[1;31mThe Kernel crashed while executing code in the current cell or a previous cell. \n",
      "\u001b[1;31mPlease review the code in the cell(s) to identify a possible cause of the failure. \n",
      "\u001b[1;31mClick <a href='https://aka.ms/vscodeJupyterKernelCrash'>here</a> for more info. \n",
      "\u001b[1;31mView Jupyter <a href='command:jupyter.viewOutput'>log</a> for further details."
     ]
    }
   ],
   "source": [
    "x1 = Value(2.0,label=\"x1\")\n",
    "x2 = Value(3.0,label=\"x2\")\n",
    "w1 = Value(4.0,label=\"w1\")\n",
    "w2 = Value(-5.0,label=\"w2\")\n",
    "\n",
    "b = Value(0.5,label=\"b\")\n",
    "\n",
    "x1w1 = x1 * w1\n",
    "x2w2 = x2 * w2\n",
    "x1w1x2w2 = x1w1 + x2w2\n",
    "n = x1w1x2w2 + b\n",
    "\n",
    "e = (2*n).exp()\n",
    "o = (e-1)/(e+1)\n",
    "n.label = \"n\"\n",
    "e.label = \"e\"\n",
    "o.label = \"o\"\n",
    "\n",
    "o.backward()\n",
    "for v in (x1, x2, w1, w2, b, n, e, o):\n",
    "    print(f\"{v.label}: {v.grad}\")"
   ]
  }
 ],
 "metadata": {
  "kernelspec": {
   "display_name": "nn_zero_to_hero_env",
   "language": "python",
   "name": "python3"
  },
  "language_info": {
   "codemirror_mode": {
    "name": "ipython",
    "version": 3
   },
   "file_extension": ".py",
   "mimetype": "text/x-python",
   "name": "python",
   "nbconvert_exporter": "python",
   "pygments_lexer": "ipython3",
   "version": "3.9.21"
  }
 },
 "nbformat": 4,
 "nbformat_minor": 2
}
