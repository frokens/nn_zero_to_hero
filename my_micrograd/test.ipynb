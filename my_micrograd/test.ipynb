{
 "cells": [
  {
   "cell_type": "code",
   "execution_count": 39,
   "metadata": {},
   "outputs": [],
   "source": [
    "from engine import draw_dot, Value"
   ]
  },
  {
   "cell_type": "code",
   "execution_count": 40,
   "metadata": {},
   "outputs": [
    {
     "data": {
      "text/plain": [
       "Value(data=1.4000000000000001, grad=0)"
      ]
     },
     "metadata": {},
     "output_type": "display_data"
    }
   ],
   "source": [
    "a = Value(5); a.label = \"a\"\n",
    "b  = Value(2); b.label = \"b\"\n",
    "c = Value(0.2)\n",
    "\n",
    "d = a + b\n",
    "o = d*c\n",
    "display(o)"
   ]
  },
  {
   "cell_type": "code",
   "execution_count": 42,
   "metadata": {},
   "outputs": [
    {
     "ename": "AttributeError",
     "evalue": "'Value' object has no attribute 'label'",
     "output_type": "error",
     "traceback": [
      "\u001b[1;31m---------------------------------------------------------------------------\u001b[0m",
      "\u001b[1;31mAttributeError\u001b[0m                            Traceback (most recent call last)",
      "Cell \u001b[1;32mIn[42], line 1\u001b[0m\n\u001b[1;32m----> 1\u001b[0m \u001b[43mdraw_dot\u001b[49m\u001b[43m(\u001b[49m\u001b[43mo\u001b[49m\u001b[43m)\u001b[49m\n",
      "File \u001b[1;32mc:\\Users\\yuyiz\\OneDrive\\python\\machine_learning\\nn_zero_to_hero\\my_micrograd\\engine.py:113\u001b[0m, in \u001b[0;36mdraw_dot\u001b[1;34m(root)\u001b[0m\n\u001b[0;32m    111\u001b[0m uid \u001b[38;5;241m=\u001b[39m \u001b[38;5;28mstr\u001b[39m(\u001b[38;5;28mid\u001b[39m(n))\n\u001b[0;32m    112\u001b[0m \u001b[38;5;66;03m# for any value in the graph, create a rectangular ('record') node for it\u001b[39;00m\n\u001b[1;32m--> 113\u001b[0m dot\u001b[38;5;241m.\u001b[39mnode(name \u001b[38;5;241m=\u001b[39m uid, label \u001b[38;5;241m=\u001b[39m \u001b[38;5;124m\"\u001b[39m\u001b[38;5;124m{\u001b[39m\u001b[38;5;124m \u001b[39m\u001b[38;5;132;01m%s\u001b[39;00m\u001b[38;5;124m | data \u001b[39m\u001b[38;5;132;01m%.4f\u001b[39;00m\u001b[38;5;124m | grad \u001b[39m\u001b[38;5;132;01m%.4f\u001b[39;00m\u001b[38;5;124m }\u001b[39m\u001b[38;5;124m\"\u001b[39m \u001b[38;5;241m%\u001b[39m (\u001b[43mn\u001b[49m\u001b[38;5;241;43m.\u001b[39;49m\u001b[43mlabel\u001b[49m, n\u001b[38;5;241m.\u001b[39mdata, n\u001b[38;5;241m.\u001b[39mgrad), shape\u001b[38;5;241m=\u001b[39m\u001b[38;5;124m'\u001b[39m\u001b[38;5;124mrecord\u001b[39m\u001b[38;5;124m'\u001b[39m)\n\u001b[0;32m    114\u001b[0m \u001b[38;5;28;01mif\u001b[39;00m n\u001b[38;5;241m.\u001b[39m_op:\n\u001b[0;32m    115\u001b[0m   \u001b[38;5;66;03m# if this value is a result of some operation, create an op node for it\u001b[39;00m\n\u001b[0;32m    116\u001b[0m   dot\u001b[38;5;241m.\u001b[39mnode(name \u001b[38;5;241m=\u001b[39m uid \u001b[38;5;241m+\u001b[39m n\u001b[38;5;241m.\u001b[39m_op, label \u001b[38;5;241m=\u001b[39m n\u001b[38;5;241m.\u001b[39m_op)\n",
      "\u001b[1;31mAttributeError\u001b[0m: 'Value' object has no attribute 'label'"
     ]
    }
   ],
   "source": [
    "draw_dot(o)"
   ]
  },
  {
   "cell_type": "code",
   "execution_count": null,
   "metadata": {},
   "outputs": [],
   "source": []
  }
 ],
 "metadata": {
  "kernelspec": {
   "display_name": "nn_zero_to_hero_env",
   "language": "python",
   "name": "python3"
  },
  "language_info": {
   "codemirror_mode": {
    "name": "ipython",
    "version": 3
   },
   "file_extension": ".py",
   "mimetype": "text/x-python",
   "name": "python",
   "nbconvert_exporter": "python",
   "pygments_lexer": "ipython3",
   "version": "3.9.21"
  }
 },
 "nbformat": 4,
 "nbformat_minor": 2
}
