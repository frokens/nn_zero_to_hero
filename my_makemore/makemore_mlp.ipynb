{
 "cells": [
  {
   "cell_type": "code",
   "execution_count": 2,
   "id": "7628c416",
   "metadata": {},
   "outputs": [],
   "source": [
    "import torch\n",
    "import torch.nn.functional as F\n",
    "import matplotlib.pyplot as plt\n",
    "%matplotlib inline"
   ]
  },
  {
   "cell_type": "code",
   "execution_count": 3,
   "id": "0bcaab26",
   "metadata": {},
   "outputs": [
    {
     "data": {
      "text/plain": [
       "['emma', 'olivia', 'ava']"
      ]
     },
     "metadata": {},
     "output_type": "display_data"
    }
   ],
   "source": [
    "words = open('names.txt','r').read().splitlines()\n",
    "display(words[:3])"
   ]
  },
  {
   "cell_type": "code",
   "execution_count": 4,
   "id": "f1fa79bc",
   "metadata": {},
   "outputs": [
    {
     "name": "stdout",
     "output_type": "stream",
     "text": [
      "{1: 'a', 2: 'b', 3: 'c', 4: 'd', 5: 'e', 6: 'f', 7: 'g', 8: 'h', 9: 'i', 10: 'j', 11: 'k', 12: 'l', 13: 'm', 14: 'n', 15: 'o', 16: 'p', 17: 'q', 18: 'r', 19: 's', 20: 't', 21: 'u', 22: 'v', 23: 'w', 24: 'x', 25: 'y', 26: 'z', 0: '.'}\n"
     ]
    }
   ],
   "source": [
    "chars = list(set(''.join(words)))\n",
    "chars.sort()\n",
    "stoi = {s:i+1 for i,s in enumerate(chars)}\n",
    "stoi['.'] = 0\n",
    "itos = {i:s for s,i in stoi.items()}\n",
    "print(itos)"
   ]
  },
  {
   "cell_type": "code",
   "execution_count": 5,
   "id": "8cbae7b0",
   "metadata": {},
   "outputs": [],
   "source": [
    "block_size = 3\n",
    "X, Y = [],[]\n",
    "for w in words:\n",
    "    content = [0] * block_size\n",
    "    for ch in w + '.':\n",
    "        ix = stoi[ch]\n",
    "        X.append(content)\n",
    "        Y.append(ix)\n",
    "        content = content[1:] + [ix]\n",
    "\n",
    "X = torch.tensor(X)\n",
    "Y = torch.tensor(Y)"
   ]
  },
  {
   "cell_type": "code",
   "execution_count": 6,
   "id": "a9d81cc8",
   "metadata": {},
   "outputs": [
    {
     "data": {
      "text/plain": [
       "torch.Size([228146, 3])"
      ]
     },
     "metadata": {},
     "output_type": "display_data"
    }
   ],
   "source": [
    "display(X.shape)"
   ]
  },
  {
   "cell_type": "code",
   "execution_count": 7,
   "id": "e8bfcb27",
   "metadata": {},
   "outputs": [],
   "source": [
    "C = torch.randn((27,2))"
   ]
  },
  {
   "cell_type": "code",
   "execution_count": 8,
   "id": "91236f29",
   "metadata": {},
   "outputs": [
    {
     "data": {
      "text/plain": [
       "tensor([1.5352, 0.4548])"
      ]
     },
     "execution_count": 8,
     "metadata": {},
     "output_type": "execute_result"
    }
   ],
   "source": [
    "C[5]"
   ]
  },
  {
   "cell_type": "code",
   "execution_count": 9,
   "id": "edc83252",
   "metadata": {},
   "outputs": [
    {
     "data": {
      "text/plain": [
       "tensor([1.5352, 0.4548])"
      ]
     },
     "execution_count": 9,
     "metadata": {},
     "output_type": "execute_result"
    }
   ],
   "source": [
    "F.one_hot(torch.tensor(5),num_classes=27).float() @ C \n",
    "# @ need the m1 and m2 has the same type nad one_hot need a tensor"
   ]
  },
  {
   "cell_type": "code",
   "execution_count": 10,
   "id": "11208727",
   "metadata": {},
   "outputs": [
    {
     "data": {
      "text/plain": [
       "torch.Size([228146, 3, 2])"
      ]
     },
     "metadata": {},
     "output_type": "display_data"
    }
   ],
   "source": [
    "emb = C[X]\n",
    "display(emb.shape)"
   ]
  },
  {
   "cell_type": "code",
   "execution_count": 11,
   "id": "1dce5307",
   "metadata": {},
   "outputs": [],
   "source": [
    "w1 = torch.randn((6,100))\n",
    "b1 = torch.randn(100)"
   ]
  },
  {
   "cell_type": "code",
   "execution_count": null,
   "id": "1341d9d3",
   "metadata": {},
   "outputs": [
    {
     "data": {
      "text/plain": [
       "tensor([[-1.5095, -0.1689, -1.5095, -0.1689, -1.5095, -0.1689],\n",
       "        [-1.5095, -0.1689, -1.5095, -0.1689,  1.5352,  0.4548],\n",
       "        [-1.5095, -0.1689,  1.5352,  0.4548, -0.1751,  1.0012],\n",
       "        ...,\n",
       "        [ 1.4002, -1.7509,  1.4002, -1.7509,  1.6597,  0.6345],\n",
       "        [ 1.4002, -1.7509,  1.6597,  0.6345,  1.4002, -1.7509],\n",
       "        [ 1.6597,  0.6345,  1.4002, -1.7509, -0.8760,  0.9709]])"
      ]
     },
     "execution_count": 12,
     "metadata": {},
     "output_type": "execute_result"
    }
   ],
   "source": [
    "torch.flatten(emb,start_dim=1,end_dim=2).shape\n",
    "torch.cat(torch.unbind(emb, dim=1),1)"
   ]
  },
  {
   "cell_type": "code",
   "execution_count": 18,
   "id": "bd26e307",
   "metadata": {},
   "outputs": [],
   "source": [
    "h1 = torch.tanh(emb.view(emb.shape[0],6) @ w1 + b1)"
   ]
  },
  {
   "cell_type": "code",
   "execution_count": 19,
   "id": "37b4743e",
   "metadata": {},
   "outputs": [
    {
     "data": {
      "text/plain": [
       "torch.Size([228146, 100])"
      ]
     },
     "execution_count": 19,
     "metadata": {},
     "output_type": "execute_result"
    }
   ],
   "source": [
    "h1.shape"
   ]
  },
  {
   "cell_type": "code",
   "execution_count": 20,
   "id": "4dcfd316",
   "metadata": {},
   "outputs": [],
   "source": [
    "w2 = torch.randn((100,27))\n",
    "b2 = torch.randn(27)"
   ]
  },
  {
   "cell_type": "code",
   "execution_count": 36,
   "id": "ec9f2127",
   "metadata": {},
   "outputs": [
    {
     "data": {
      "text/plain": [
       "torch.Size([228146, 27])"
      ]
     },
     "metadata": {},
     "output_type": "display_data"
    },
    {
     "data": {
      "text/plain": [
       "tensor(37.3723)"
      ]
     },
     "metadata": {},
     "output_type": "display_data"
    }
   ],
   "source": [
    "logits = h1 @ w2 + b2\n",
    "counts = (logits-logits.max()).exp() \n",
    "display(counts.shape)\n",
    "display(logits.max())"
   ]
  },
  {
   "cell_type": "code",
   "execution_count": 37,
   "id": "d5a679bc",
   "metadata": {},
   "outputs": [],
   "source": [
    "prods = counts / counts.sum(dim=1,keepdim=True)"
   ]
  },
  {
   "cell_type": "code",
   "execution_count": 38,
   "id": "147693c8",
   "metadata": {},
   "outputs": [
    {
     "data": {
      "text/plain": [
       "tensor(13.0584)"
      ]
     },
     "execution_count": 38,
     "metadata": {},
     "output_type": "execute_result"
    }
   ],
   "source": [
    "loss = -prods[prods.shape[1],Y].log().mean()\n",
    "loss"
   ]
  },
  {
   "cell_type": "code",
   "execution_count": 142,
   "id": "08254e8c",
   "metadata": {},
   "outputs": [],
   "source": [
    "len(words)\n",
    "n1 = int(0.8*len(words))\n",
    "n2 = int(0.9*len(words))\n",
    "Xtr = X[0:n1]\n",
    "Xdev = X[n1:n2]\n",
    "Xte =X[n2:]\n",
    "Ytr = Y[0:n1]\n",
    "Ydev = Y[n1:n2]\n",
    "Yte = Y[n2:]"
   ]
  },
  {
   "cell_type": "markdown",
   "id": "9748530d",
   "metadata": {},
   "source": [
    "# Train part"
   ]
  },
  {
   "cell_type": "code",
   "execution_count": 184,
   "id": "969994ba",
   "metadata": {},
   "outputs": [],
   "source": [
    "g = torch.Generator().manual_seed(2147483647)\n",
    "C = torch.randn((27,2), generator=g)\n",
    "w1 = torch.randn((6,300), generator=g)\n",
    "b1 = torch.randn(300,generator=g)\n",
    "w2 = torch.randn((300,27), generator=g)\n",
    "b2 = torch.randn(27,generator=g)\n",
    "parameters = [C,w1,w2,b1,b2]"
   ]
  },
  {
   "cell_type": "code",
   "execution_count": 185,
   "id": "2b05cedd",
   "metadata": {},
   "outputs": [],
   "source": [
    "for p in parameters:\n",
    "    p.requires_grad = True"
   ]
  },
  {
   "cell_type": "code",
   "execution_count": 186,
   "id": "63b8c471",
   "metadata": {},
   "outputs": [],
   "source": [
    "lre = torch.linspace(-3, 0, 1000)\n",
    "lrs = 10**lre"
   ]
  },
  {
   "cell_type": "code",
   "execution_count": 187,
   "id": "bb54b892",
   "metadata": {},
   "outputs": [
    {
     "name": "stdout",
     "output_type": "stream",
     "text": [
      "tensor(2.2136, grad_fn=<NllLossBackward0>)\n"
     ]
    }
   ],
   "source": [
    "lri = []\n",
    "lossi = []\n",
    "for  i in range(10000):\n",
    "    ix = torch.randint(0,Xdev.shape[0],(32,))\n",
    "    emb = C[Xdev[ix]]\n",
    "    h = torch.tanh(emb.view(-1,6) @ w1 + b1)\n",
    "    logits = h @ w2 + b2\n",
    "    loss = F.cross_entropy(logits,Ydev[ix])\n",
    "    for p in parameters:\n",
    "        p.grad = None\n",
    "    loss.backward()\n",
    "    lr = 0.1\n",
    "    if i >5000:\n",
    "        lr = 0.01\n",
    "    for p in parameters:\n",
    "        p.data -= lr * p.grad\n",
    "    lri.append(i)\n",
    "    lossi.append(loss.item())\n",
    "print(loss)"
   ]
  },
  {
   "cell_type": "code",
   "execution_count": 188,
   "id": "0b48f22c",
   "metadata": {},
   "outputs": [
    {
     "data": {
      "text/plain": [
       "[<matplotlib.lines.Line2D at 0x220830f6d30>]"
      ]
     },
     "execution_count": 188,
     "metadata": {},
     "output_type": "execute_result"
    },
    {
     "data": {
      "image/png": "[encoded data removed]",
      "text/plain": [
       "<Figure size 640x480 with 1 Axes>"
      ]
     },
     "metadata": {},
     "output_type": "display_data"
    }
   ],
   "source": [
    "plt.plot(lri,lossi)"
   ]
  },
  {
   "cell_type": "markdown",
   "id": "fe692b46",
   "metadata": {},
   "source": [
    "# Dev loss"
   ]
  },
  {
   "cell_type": "code",
   "execution_count": 189,
   "id": "85986bcc",
   "metadata": {},
   "outputs": [
    {
     "name": "stdout",
     "output_type": "stream",
     "text": [
      "dev loss: 2.8563382625579834\n"
     ]
    }
   ],
   "source": [
    "emb = C[Xte]\n",
    "h = torch.tanh(emb.view(-1,6)@ w1+ b1)\n",
    "logits = h @ w2 + b2\n",
    "loss = F.cross_entropy(logits, Yte)\n",
    "print(f\"dev loss: {loss}\") "
   ]
  },
  {
   "cell_type": "code",
   "execution_count": null,
   "id": "82c7fcbf",
   "metadata": {},
   "outputs": [
    {
     "data": {
      "image/png": "[encoded data removed]",
      "text/plain": [
       "<Figure size 800x800 with 1 Axes>"
      ]
     },
     "metadata": {},
     "output_type": "display_data"
    }
   ],
   "source": [
    "plt.figure(figsize=(8,8))\n",
    "plt.scatter(C[:,0].data, C[:,1].data, s=200)\n",
    "for i in range(C.shape[0]):\n",
    "    plt.text(C[i,0].item(), C[i,1].item(), itos[i], va='center', ha='center', color='white')\n",
    "plt.grid('minor')"
   ]
  },
  {
   "cell_type": "markdown",
   "id": "989318bb",
   "metadata": {},
   "source": [
    "# predict"
   ]
  },
  {
   "cell_type": "code",
   "execution_count": 195,
   "id": "e3325cf9",
   "metadata": {},
   "outputs": [
    {
     "name": "stdout",
     "output_type": "stream",
     "text": [
      "junidma.\n",
      "anasizha.\n",
      "cear.\n",
      "adin.\n",
      "kailelto.\n",
      "cami.\n",
      "gez.\n",
      "kalinah.\n",
      "yamilenias.\n",
      "dedaile.\n"
     ]
    }
   ],
   "source": [
    "g = torch.Generator().manual_seed(2147483647)\n",
    "for i in range(10):\n",
    "    out = []\n",
    "    context = [0] * block_size\n",
    "    while True:\n",
    "        emb = C[torch.tensor([context])]\n",
    "        h = torch.tanh(emb.view(1, -1) @ w1 + b1)\n",
    "        logits = h @ w2 + b2\n",
    "        probs = F.softmax(logits, dim=1)\n",
    "        ix = torch.multinomial(probs, num_samples=1,generator=g).item()\n",
    "        context = context[1:] + [ix]\n",
    "        out.append(ix)\n",
    "        if ix == 0:\n",
    "            break\n",
    "    print(''.join(itos[i] for i in out))"
   ]
  },
  {
   "cell_type": "code",
   "execution_count": null,
   "id": "4ca0826e",
   "metadata": {},
   "outputs": [],
   "source": []
  }
 ],
 "metadata": {
  "kernelspec": {
   "display_name": "nn_zero_to_hero_env",
   "language": "python",
   "name": "python3"
  },
  "language_info": {
   "codemirror_mode": {
    "name": "ipython",
    "version": 3
   },
   "file_extension": ".py",
   "mimetype": "text/x-python",
   "name": "python",
   "nbconvert_exporter": "python",
   "pygments_lexer": "ipython3",
   "version": "3.9.21"
  }
 },
 "nbformat": 4,
 "nbformat_minor": 5
}
